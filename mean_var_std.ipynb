{
 "cells": [
  {
   "cell_type": "markdown",
   "id": "a6bee1e0",
   "metadata": {},
   "source": [
    "# 1 Mean-Variance-Standard Deviation Calculator"
   ]
  },
  {
   "cell_type": "markdown",
   "id": "def3266a",
   "metadata": {},
   "source": [
    "## 1.1 Problem Description"
   ]
  },
  {
   "cell_type": "markdown",
   "id": "a731bbb2",
   "metadata": {},
   "source": [
    "<p>Create a function named <code>calculate()</code> in <code>mean_var_std.py</code> that uses Numpy to output the mean, variance, standard deviation, max, min, and sum of the rows, columns, and elements in a 3 x 3 matrix.</p>"
   ]
  },
  {
   "cell_type": "markdown",
   "id": "f568990a",
   "metadata": {},
   "source": [
    "<p>The input of the function should be a list containing 9 digits. The function should convert the list into a 3 x 3 Numpy array, and then return a dictionary containing the mean, variance, standard deviation, max, min, and sum along both axes and for the flattened matrix.</p>"
   ]
  },
  {
   "cell_type": "markdown",
   "id": "887896f9",
   "metadata": {},
   "source": [
    "<p>The returned dictionary should follow this format:</p>"
   ]
  },
  {
   "cell_type": "markdown",
   "id": "6e7a7315",
   "metadata": {},
   "source": [
    "<pre class=\"language-py\" tabindex=\"0\"><code class=\"language-py\"><span class=\"token punctuation\">{</span>\n",
    "  <span class=\"token string\">'mean'</span><span class=\"token punctuation\">:</span> <span class=\"token punctuation\">[</span>axis1<span class=\"token punctuation\">,</span> axis2<span class=\"token punctuation\">,</span> flattened<span class=\"token punctuation\">]</span><span class=\"token punctuation\">,</span>\n",
    "  <span class=\"token string\">'variance'</span><span class=\"token punctuation\">:</span> <span class=\"token punctuation\">[</span>axis1<span class=\"token punctuation\">,</span> axis2<span class=\"token punctuation\">,</span> flattened<span class=\"token punctuation\">]</span><span class=\"token punctuation\">,</span>\n",
    "  <span class=\"token string\">'standard deviation'</span><span class=\"token punctuation\">:</span> <span class=\"token punctuation\">[</span>axis1<span class=\"token punctuation\">,</span> axis2<span class=\"token punctuation\">,</span> flattened<span class=\"token punctuation\">]</span><span class=\"token punctuation\">,</span>\n",
    "  <span class=\"token string\">'max'</span><span class=\"token punctuation\">:</span> <span class=\"token punctuation\">[</span>axis1<span class=\"token punctuation\">,</span> axis2<span class=\"token punctuation\">,</span> flattened<span class=\"token punctuation\">]</span><span class=\"token punctuation\">,</span>\n",
    "  <span class=\"token string\">'min'</span><span class=\"token punctuation\">:</span> <span class=\"token punctuation\">[</span>axis1<span class=\"token punctuation\">,</span> axis2<span class=\"token punctuation\">,</span> flattened<span class=\"token punctuation\">]</span><span class=\"token punctuation\">,</span>\n",
    "  <span class=\"token string\">'sum'</span><span class=\"token punctuation\">:</span> <span class=\"token punctuation\">[</span>axis1<span class=\"token punctuation\">,</span> axis2<span class=\"token punctuation\">,</span> flattened<span class=\"token punctuation\">]</span>\n",
    "<span class=\"token punctuation\">}</span>\n",
    "</code></pre>"
   ]
  },
  {
   "cell_type": "markdown",
   "id": "b28e3dc0",
   "metadata": {},
   "source": [
    "<p>If a list containing less than 9 elements is passed into the function, it should raise a <code>ValueError</code> exception with the message: \"List must contain nine numbers.\" The values in the returned dictionary should be lists and not Numpy arrays.</p>"
   ]
  },
  {
   "cell_type": "markdown",
   "id": "f4023bd4",
   "metadata": {},
   "source": [
    "<p>For example, <code>calculate([0,1,2,3,4,5,6,7,8])</code> should return:</p>"
   ]
  },
  {
   "cell_type": "markdown",
   "id": "0781636f",
   "metadata": {},
   "source": [
    "<pre class=\"language-py\" tabindex=\"0\"><code class=\"language-py\"><span class=\"token punctuation\">{</span>\n",
    "  <span class=\"token string\">'mean'</span><span class=\"token punctuation\">:</span> <span class=\"token punctuation\">[</span><span class=\"token punctuation\">[</span><span class=\"token number\">3.0</span><span class=\"token punctuation\">,</span> <span class=\"token number\">4.0</span><span class=\"token punctuation\">,</span> <span class=\"token number\">5.0</span><span class=\"token punctuation\">]</span><span class=\"token punctuation\">,</span> <span class=\"token punctuation\">[</span><span class=\"token number\">1.0</span><span class=\"token punctuation\">,</span> <span class=\"token number\">4.0</span><span class=\"token punctuation\">,</span> <span class=\"token number\">7.0</span><span class=\"token punctuation\">]</span><span class=\"token punctuation\">,</span> <span class=\"token number\">4.0</span><span class=\"token punctuation\">]</span><span class=\"token punctuation\">,</span>\n",
    "  <span class=\"token string\">'variance'</span><span class=\"token punctuation\">:</span> <span class=\"token punctuation\">[</span><span class=\"token punctuation\">[</span><span class=\"token number\">6.0</span><span class=\"token punctuation\">,</span> <span class=\"token number\">6.0</span><span class=\"token punctuation\">,</span> <span class=\"token number\">6.0</span><span class=\"token punctuation\">]</span><span class=\"token punctuation\">,</span> <span class=\"token punctuation\">[</span><span class=\"token number\">0.6666666666666666</span><span class=\"token punctuation\">,</span> <span class=\"token number\">0.6666666666666666</span><span class=\"token punctuation\">,</span> <span class=\"token number\">0.6666666666666666</span><span class=\"token punctuation\">]</span><span class=\"token punctuation\">,</span> <span class=\"token number\">6.666666666666667</span><span class=\"token punctuation\">]</span><span class=\"token punctuation\">,</span>\n",
    "  <span class=\"token string\">'standard deviation'</span><span class=\"token punctuation\">:</span> <span class=\"token punctuation\">[</span><span class=\"token punctuation\">[</span><span class=\"token number\">2.449489742783178</span><span class=\"token punctuation\">,</span> <span class=\"token number\">2.449489742783178</span><span class=\"token punctuation\">,</span> <span class=\"token number\">2.449489742783178</span><span class=\"token punctuation\">]</span><span class=\"token punctuation\">,</span> <span class=\"token punctuation\">[</span><span class=\"token number\">0.816496580927726</span><span class=\"token punctuation\">,</span> <span class=\"token number\">0.816496580927726</span><span class=\"token punctuation\">,</span> <span class=\"token number\">0.816496580927726</span><span class=\"token punctuation\">]</span><span class=\"token punctuation\">,</span> <span class=\"token number\">2.581988897471611</span><span class=\"token punctuation\">]</span><span class=\"token punctuation\">,</span>\n",
    "  <span class=\"token string\">'max'</span><span class=\"token punctuation\">:</span> <span class=\"token punctuation\">[</span><span class=\"token punctuation\">[</span><span class=\"token number\">6</span><span class=\"token punctuation\">,</span> <span class=\"token number\">7</span><span class=\"token punctuation\">,</span> <span class=\"token number\">8</span><span class=\"token punctuation\">]</span><span class=\"token punctuation\">,</span> <span class=\"token punctuation\">[</span><span class=\"token number\">2</span><span class=\"token punctuation\">,</span> <span class=\"token number\">5</span><span class=\"token punctuation\">,</span> <span class=\"token number\">8</span><span class=\"token punctuation\">]</span><span class=\"token punctuation\">,</span> <span class=\"token number\">8</span><span class=\"token punctuation\">]</span><span class=\"token punctuation\">,</span>\n",
    "  <span class=\"token string\">'min'</span><span class=\"token punctuation\">:</span> <span class=\"token punctuation\">[</span><span class=\"token punctuation\">[</span><span class=\"token number\">0</span><span class=\"token punctuation\">,</span> <span class=\"token number\">1</span><span class=\"token punctuation\">,</span> <span class=\"token number\">2</span><span class=\"token punctuation\">]</span><span class=\"token punctuation\">,</span> <span class=\"token punctuation\">[</span><span class=\"token number\">0</span><span class=\"token punctuation\">,</span> <span class=\"token number\">3</span><span class=\"token punctuation\">,</span> <span class=\"token number\">6</span><span class=\"token punctuation\">]</span><span class=\"token punctuation\">,</span> <span class=\"token number\">0</span><span class=\"token punctuation\">]</span><span class=\"token punctuation\">,</span>\n",
    "  <span class=\"token string\">'sum'</span><span class=\"token punctuation\">:</span> <span class=\"token punctuation\">[</span><span class=\"token punctuation\">[</span><span class=\"token number\">9</span><span class=\"token punctuation\">,</span> <span class=\"token number\">12</span><span class=\"token punctuation\">,</span> <span class=\"token number\">15</span><span class=\"token punctuation\">]</span><span class=\"token punctuation\">,</span> <span class=\"token punctuation\">[</span><span class=\"token number\">3</span><span class=\"token punctuation\">,</span> <span class=\"token number\">12</span><span class=\"token punctuation\">,</span> <span class=\"token number\">21</span><span class=\"token punctuation\">]</span><span class=\"token punctuation\">,</span> <span class=\"token number\">36</span><span class=\"token punctuation\">]</span>\n",
    "<span class=\"token punctuation\">}</span>\n",
    "</code></pre>"
   ]
  },
  {
   "cell_type": "markdown",
   "id": "a0482e75",
   "metadata": {},
   "source": [
    "## 1.2 Problem Solution"
   ]
  },
  {
   "cell_type": "code",
   "execution_count": 77,
   "id": "8efac51f",
   "metadata": {},
   "outputs": [],
   "source": [
    "import numpy as np\n",
    "from pprint import pprint"
   ]
  },
  {
   "cell_type": "code",
   "execution_count": 82,
   "id": "fe5daef3",
   "metadata": {},
   "outputs": [],
   "source": [
    "def calculate(numbers):\n",
    "    if len(numbers) != 9:\n",
    "        raise ValueError(\"List must contain nine numbers.\")\n",
    "    \n",
    "    matrix = np.array(numbers).reshape([3, 3])\n",
    "    d = {'mean': [matrix.mean(0).tolist(), matrix.mean(1).tolist(), matrix.mean()],\n",
    "         'variance': [matrix.var(0).tolist(), matrix.var(1).tolist(), matrix.var()],\n",
    "         'standard deviation': [matrix.std(0).tolist(), matrix.std(1).tolist(), matrix.std()],\n",
    "         'max': [matrix.max(0).tolist(), matrix.max(1).tolist(), matrix.max()],\n",
    "         'min': [matrix.min(0).tolist(), matrix.min(1).tolist(), matrix.min()],\n",
    "         'sum': [matrix.sum(0).tolist(), matrix.sum(1).tolist(), matrix.sum()],\n",
    "        }\n",
    "    \n",
    "    return d"
   ]
  },
  {
   "cell_type": "code",
   "execution_count": 83,
   "id": "b80824ce",
   "metadata": {
    "scrolled": true
   },
   "outputs": [
    {
     "name": "stdout",
     "output_type": "stream",
     "text": [
      "{'max': [[6, 7, 8], [2, 5, 8], 8],\n",
      " 'mean': [[3.0, 4.0, 5.0], [1.0, 4.0, 7.0], 4.0],\n",
      " 'min': [[0, 1, 2], [0, 3, 6], 0],\n",
      " 'standard deviation': [[2.449489742783178,\n",
      "                         2.449489742783178,\n",
      "                         2.449489742783178],\n",
      "                        [0.816496580927726,\n",
      "                         0.816496580927726,\n",
      "                         0.816496580927726],\n",
      "                        2.581988897471611],\n",
      " 'sum': [[9, 12, 15], [3, 12, 21], 36],\n",
      " 'variance': [[6.0, 6.0, 6.0],\n",
      "              [0.6666666666666666, 0.6666666666666666, 0.6666666666666666],\n",
      "              6.666666666666667]}\n"
     ]
    }
   ],
   "source": [
    "pprint(calculate([i for i in range(0, 9)]))"
   ]
  },
  {
   "cell_type": "markdown",
   "id": "5a8e57dc",
   "metadata": {},
   "source": [
    "## 1.3 Testing"
   ]
  },
  {
   "cell_type": "code",
   "execution_count": 84,
   "id": "a5eac0fe",
   "metadata": {},
   "outputs": [],
   "source": [
    "import unittest"
   ]
  },
  {
   "cell_type": "code",
   "execution_count": 88,
   "id": "ac2ea802",
   "metadata": {},
   "outputs": [],
   "source": [
    "# the test case\n",
    "class UnitTests(unittest.TestCase):\n",
    "    def test_calculate(self):\n",
    "        actual = calculate([2,6,2,8,4,0,1,5,7])\n",
    "        expected = {'mean': [[3.6666666666666665, 5.0, 3.0], [3.3333333333333335, 4.0, 4.333333333333333], 3.888888888888889], 'variance': [[9.555555555555557, 0.6666666666666666, 8.666666666666666], [3.555555555555556, 10.666666666666666, 6.222222222222221], 6.987654320987654], 'standard deviation': [[3.091206165165235, 0.816496580927726, 2.943920288775949], [1.8856180831641267, 3.265986323710904, 2.494438257849294], 2.6434171674156266], 'max': [[8, 6, 7], [6, 8, 7], 8], 'min': [[1, 4, 0], [2, 0, 1], 0], 'sum': [[11, 15, 9], [10, 12, 13], 35]}\n",
    "        self.assertAlmostEqual(actual, expected, \"Expected different output when calling 'calculate()' with '[2,6,2,8,4,0,1,5,7]'\")\n",
    "\n",
    "    def test_calculate2(self):\n",
    "        actual = calculate([9,1,5,3,3,3,2,9,0])\n",
    "        expected = {'mean': [[4.666666666666667, 4.333333333333333, 2.6666666666666665], [5.0, 3.0, 3.6666666666666665], 3.888888888888889], 'variance': [[9.555555555555555, 11.555555555555557, 4.222222222222222], [10.666666666666666, 0.0, 14.888888888888891], 9.209876543209875], 'standard deviation': [[3.0912061651652345, 3.39934634239519, 2.0548046676563256], [3.265986323710904, 0.0, 3.8586123009300755], 3.0347778408328137], 'max': [[9, 9, 5], [9, 3, 9], 9], 'min': [[2, 1, 0], [1, 3, 0], 0], 'sum': [[14, 13, 8], [15, 9, 11], 35]}\n",
    "        self.assertAlmostEqual(actual, expected, \"Expected different output when calling 'calculate()' with '[9,1,5,3,3,3,2,9,0]'\")\n",
    "    \n",
    "    def test_calculate_with_few_digits(self):\n",
    "        self.assertRaisesRegex(ValueError, \"List must contain nine numbers.\", calculate, [2,6,2,8,4,0,1,])"
   ]
  },
  {
   "cell_type": "code",
   "execution_count": 89,
   "id": "a110b8a7",
   "metadata": {},
   "outputs": [
    {
     "name": "stderr",
     "output_type": "stream",
     "text": [
      "...\n",
      "----------------------------------------------------------------------\n",
      "Ran 3 tests in 0.008s\n",
      "\n",
      "OK\n"
     ]
    }
   ],
   "source": [
    "if __name__ == \"__main__\":\n",
    "    unittest.main(argv=[\"first-arg-is-ignored\"], exit=False)"
   ]
  }
 ],
 "metadata": {
  "kernelspec": {
   "display_name": "Python 3 (ipykernel)",
   "language": "python",
   "name": "python3"
  },
  "language_info": {
   "codemirror_mode": {
    "name": "ipython",
    "version": 3
   },
   "file_extension": ".py",
   "mimetype": "text/x-python",
   "name": "python",
   "nbconvert_exporter": "python",
   "pygments_lexer": "ipython3",
   "version": "3.10.5"
  }
 },
 "nbformat": 4,
 "nbformat_minor": 5
}
